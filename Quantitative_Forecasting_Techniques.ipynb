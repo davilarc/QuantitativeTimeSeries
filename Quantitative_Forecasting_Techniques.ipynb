{
 "cells": [
  {
   "cell_type": "markdown",
   "id": "d99ee32d",
   "metadata": {},
   "source": [
    "### Classical Time Series Forecasting Methods\n",
    "Reference: Machine Learning Mastery, Jason Brownlee, 06 Aug 2018 - Time Sereis"
   ]
  },
  {
   "cell_type": "code",
   "execution_count": null,
   "id": "448fc093",
   "metadata": {},
   "outputs": [],
   "source": []
  }
 ],
 "metadata": {
  "kernelspec": {
   "display_name": "Python 3 (ipykernel)",
   "language": "python",
   "name": "python3"
  },
  "language_info": {
   "codemirror_mode": {
    "name": "ipython",
    "version": 3
   },
   "file_extension": ".py",
   "mimetype": "text/x-python",
   "name": "python",
   "nbconvert_exporter": "python",
   "pygments_lexer": "ipython3",
   "version": "3.9.7"
  }
 },
 "nbformat": 4,
 "nbformat_minor": 5
}
